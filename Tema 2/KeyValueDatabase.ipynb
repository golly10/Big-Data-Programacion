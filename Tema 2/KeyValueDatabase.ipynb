{
  "cells": [
    {
      "cell_type": "code",
      "execution_count": 11,
      "metadata": {
        "id": "TbrIVOfXMG4u"
      },
      "outputs": [],
      "source": [
        "class KeyValueDatabase:\n",
        "    def __init__(self):\n",
        "        self.key_val = {}\n",
        "\n",
        "    def put(self, key, value):\n",
        "        # Stores the value mapped to key in the database.\n",
        "        self.key_val.update({key: value})\n",
        "\n",
        "    def get(self, key):\n",
        "        # Returns the value mapped to key in the database. Returns None if key is not found.\n",
        "        return self.key_val[key] if key in self.key_val.keys() else None\n",
        "  \n",
        "    def remove(self, key):\n",
        "        # Removes the key from the database. Raises a KeyError if key is not found in the database file.\n",
        "        try:\n",
        "\n",
        "            del self.key_val[key]\n",
        "\n",
        "        except KeyError as e:\n",
        "            return \"Error. Unable to remove the database\"\n",
        "\n",
        "        return \"Key {} removed\".format(key)\n",
        "\n",
        "    def keys(self):\n",
        "        # Returns the keys present in the database. Return type is list in Python 2 and Dictionary view object (similar to dict.keys()) in Python 3.\n",
        "        return self.key_val.keys()\n",
        "\n",
        "    def values(self):\n",
        "        # Returns the values of all keys present in the database. Return type is list for Python 2 and Dictionary view object (similar to dict.values()) in Python 3.\n",
        "        return self.key_val.values()\n",
        "\n",
        "    def reset(self):\n",
        "        # Removes all data from the database i.e. resets the database.\n",
        "        del self.key_val\n",
        "        self.key_val = {} "
      ]
    },
    {
      "cell_type": "markdown",
      "metadata": {},
      "source": [
        "# Ejemplo de uso"
      ]
    },
    {
      "cell_type": "code",
      "execution_count": 13,
      "metadata": {},
      "outputs": [
        {
          "name": "stdout",
          "output_type": "stream",
          "text": [
            "Azul\n",
            "Te\n",
            "None\n",
            "dict_keys(['Color', 'Bebida', 'Deporte', 'Usuario'])\n",
            "dict_values(['Azul', 'Te', 'Futbol', 'Rojo'])\n",
            "Key Color removed\n",
            "Key Bebida removed\n",
            "Error. Unable to remove the database\n",
            "dict_keys([])\n",
            "dict_values([])\n"
          ]
        }
      ],
      "source": [
        "# Creamos el objeto KeyValueDatabase\n",
        "database = KeyValueDatabase()\n",
        "\n",
        "# Insertamos claves junto con su correspondiente valor\n",
        "database.put(\"Color\", \"Azul\")\n",
        "database.put(\"Bebida\", \"Te\")\n",
        "database.put(\"Deporte\", \"Futbol\")\n",
        "database.put(\"Usuario\", \"Rojo\")\n",
        "\n",
        "# Imprimimos por pantalla el valor de la clave a buscar\n",
        "print(database.get(\"Color\"))\n",
        "print(database.get(\"Bebida\"))\n",
        "print(database.get(\"Fallo\"))\n",
        "\n",
        "# Imprimimos las claves y los valores de la base de datos\n",
        "print(database.keys())\n",
        "print(database.values())\n",
        "\n",
        "# Eliminamos claves\n",
        "print(database.remove(\"Color\"))\n",
        "print(database.remove(\"Bebida\"))\n",
        "print(database.remove(\"Fallo\"))\n",
        "\n",
        "# Reiniciamos la base de datos\n",
        "database.reset()\n",
        "\n",
        "# Imprimimos las claves y los valores de la base de datos tras el reinicio\n",
        "print(database.keys())\n",
        "print(database.values())"
      ]
    }
  ],
  "metadata": {
    "colab": {
      "name": "KeyValueDatabase.ipynb",
      "provenance": []
    },
    "interpreter": {
      "hash": "f2ec7104d0b563fded5ffd12705406214d4ed020b43c1b3546134c42f3250eb5"
    },
    "kernelspec": {
      "display_name": "Python 3.9.10 ('big-data-programacion-UpxatWFW-py3.9')",
      "language": "python",
      "name": "python3"
    },
    "language_info": {
      "codemirror_mode": {
        "name": "ipython",
        "version": 3
      },
      "file_extension": ".py",
      "mimetype": "text/x-python",
      "name": "python",
      "nbconvert_exporter": "python",
      "pygments_lexer": "ipython3",
      "version": "3.9.10"
    }
  },
  "nbformat": 4,
  "nbformat_minor": 0
}
