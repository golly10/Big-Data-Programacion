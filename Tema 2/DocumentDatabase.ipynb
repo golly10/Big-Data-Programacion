{
<<<<<<< HEAD
  "nbformat": 4,
  "nbformat_minor": 0,
  "metadata": {
    "colab": {
      "name": "DocumentDatabase.ipynb",
      "provenance": [],
      "collapsed_sections": []
    },
    "kernelspec": {
      "name": "python3",
      "display_name": "Python 3"
    },
    "language_info": {
      "name": "python"
    }
  },
  "cells": [
    {
      "cell_type": "code",
=======
  "cells": [
    {
      "cell_type": "code",
      "execution_count": 1,
      "metadata": {
        "id": "ploQAJWSQM6j"
      },
      "outputs": [],
>>>>>>> 46c48222273ecdecfce2cd991f6dc80ad26c4ff7
      "source": [
        "document = {\n",
        "    \"id\": 1,\n",
        "    \"name\": \"Alice\",\n",
        "    \"lastName\": \"Smith\",\n",
        "    \"age\": 28,\n",
        "    \"phones\": [\n",
        "               \"(678) 755-5412\",\n",
        "               \"(574) 885-1631\",\n",
        "               \"(493) 393-4967\"\n",
        "               ],\n",
        "    \"bio\": \"Lorem ipsum dolor sit amet, consectetur adipiscing elit. Nullam tempor.\"\n",
        " }"
<<<<<<< HEAD
      ],
      "metadata": {
        "id": "ploQAJWSQM6j"
      },
      "execution_count": null,
      "outputs": []
    },
    {
      "cell_type": "code",
      "execution_count": null,
=======
      ]
    },
    {
      "cell_type": "code",
      "execution_count": 2,
>>>>>>> 46c48222273ecdecfce2cd991f6dc80ad26c4ff7
      "metadata": {
        "id": "AVDwQabHPqdL"
      },
      "outputs": [],
      "source": [
        "class DocumentDatabase:\n",
        "    def __init__(self):\n",
<<<<<<< HEAD
        "        pass\n",
=======
        "        self.database = []\n",
        "        \n",
>>>>>>> 46c48222273ecdecfce2cd991f6dc80ad26c4ff7
        "\n",
        "    def insert(self, document):\n",
        "        # Stores the document in the database. Raises a DocumentError if a document with the given id is found or if the given document has no an id field.\n",
        "        # Example: db.insert({ \"id\": 1, \"name\": \"Bob\", \"lastName\": \"Ford\" })\n",
<<<<<<< HEAD
        "        pass\n",
=======
        "        \n",
        "        if \"id\" not in document.keys() or self.find(\"id\", document[\"id\"]) != None:\n",
        "            raise NameError(\"DocumentError\")\n",
        "\n",
        "        self.database.append(document)\n",
>>>>>>> 46c48222273ecdecfce2cd991f6dc80ad26c4ff7
        "\n",
        "    def find(self, key, value):\n",
        "        # Returns the array of documents that contain the given value mapped to given key in the database. Returns an empty array if any document is not found.\n",
        "        # Example: db.find(\"name\", \"Alice\")\n",
<<<<<<< HEAD
        "        pass\n",
=======
        "\n",
        "        doc_found = []\n",
        "        for doc in self.database:\n",
        "\n",
        "            if key in doc.keys() and value == doc[key]:\n",
        "                doc_found.append(doc)\n",
        "        \n",
        "        return doc_found if len(doc_found) > 0 else None\n",
>>>>>>> 46c48222273ecdecfce2cd991f6dc80ad26c4ff7
        "  \n",
        "    def remove(self, key, value):\n",
        "        # Removes all documents that match the given value mapped to given key in the database.\n",
        "        # Example: db.remove(\"name\", \"Alice\")\n",
<<<<<<< HEAD
        "        pass\n",
=======
        "\n",
        "        found = False\n",
        "        for doc in self.database:\n",
        "            \n",
        "            if key in doc.keys() and value == doc[key]:\n",
        "                \n",
        "                found = True\n",
        "                self.database.remove(doc)\n",
        "\n",
        "                return \"Document Removed\"\n",
        "\n",
        "        if not found:\n",
        "            return NameError(\"DocumentNotFound\")\n",
>>>>>>> 46c48222273ecdecfce2cd991f6dc80ad26c4ff7
        "\n",
        "    def update(self, key, value, partialOrCompleteDocument):\n",
        "        # Updates the documents that match the given value mapped to given key, adding or replacing in the existing document the given partial or complete document in the database. The key \"id\" must not be updated.\n",
        "        # Example: db.update(\"name\", \"Alice\", { \"name\": \"Bob\", \"lastName\": \"Ford\" })\n",
<<<<<<< HEAD
        "        pass"
      ]
    }
  ]
}
=======
        "\n",
        "        if \"id\" in partialOrCompleteDocument.keys():\n",
        "            return NameError(\"IDKeyNotAllowed\")\n",
        "\n",
        "        found = False\n",
        "        for i in range(0, len(self.database)):\n",
        "            \n",
        "            if key in self.database[i].keys() and value == self.database[i][key]:\n",
        "\n",
        "                found = True\n",
        "                partialOrCompleteDocument[\"id\"] = self.database[i][\"id\"]\n",
        "                self.database[i] = partialOrCompleteDocument\n",
        "\n",
        "                return \"Document updated\"\n",
        "        \n",
        "        if not found:\n",
        "            return NameError(\"DocumentNotFound\")"
      ]
    },
    {
      "cell_type": "code",
      "execution_count": 3,
      "metadata": {},
      "outputs": [
        {
          "name": "stdout",
          "output_type": "stream",
          "text": [
            "------- Insertamos documents -------\n",
            "[{'id': 1, 'name': 'Alice', 'lastName': 'Smith', 'age': 28, 'phones': ['(678) 755-5412', '(574) 885-1631', '(493) 393-4967'], 'bio': 'Lorem ipsum dolor sit amet, consectetur adipiscing elit. Nullam tempor.'}, {'id': 2, 'name': 'Bob', 'lastName': 'Ford'}, {'id': 3, 'name': 'Alice', 'lastName': 'Watson'}]\n",
            "------- Buscamos documentos por clave -------\n",
            "[{'id': 3, 'name': 'Alice', 'lastName': 'Watson'}]\n",
            "[{'id': 1, 'name': 'Alice', 'lastName': 'Smith', 'age': 28, 'phones': ['(678) 755-5412', '(574) 885-1631', '(493) 393-4967'], 'bio': 'Lorem ipsum dolor sit amet, consectetur adipiscing elit. Nullam tempor.'}, {'id': 3, 'name': 'Alice', 'lastName': 'Watson'}]\n",
            "None\n",
            "------- Borramos documentos por clave -------\n",
            "Document Removed\n",
            "DocumentNotFound\n",
            "[{'id': 1, 'name': 'Alice', 'lastName': 'Smith', 'age': 28, 'phones': ['(678) 755-5412', '(574) 885-1631', '(493) 393-4967'], 'bio': 'Lorem ipsum dolor sit amet, consectetur adipiscing elit. Nullam tempor.'}, {'id': 2, 'name': 'Bob', 'lastName': 'Ford'}]\n",
            "------- Actualizamos documentos por clave -------\n",
            "Document updated\n",
            "DocumentNotFound\n",
            "IDKeyNotAllowed\n",
            "[{'name': 'Bob', 'lastName': 'Smith', 'id': 1}, {'id': 2, 'name': 'Bob', 'lastName': 'Ford'}]\n"
          ]
        }
      ],
      "source": [
        "db = DocumentDatabase()\n",
        "\n",
        "# Insert documents\n",
        "\n",
        "print(\"------- Insertamos documents -------\")\n",
        "\n",
        "db.insert(document)\n",
        "\n",
        "db.insert({ \"id\": 2, \"name\": \"Bob\", \"lastName\": \"Ford\" })\n",
        "\n",
        "db.insert({ \"id\": 3, \"name\": \"Alice\", \"lastName\": \"Watson\" })\n",
        "\n",
        "print(db.database)\n",
        "\n",
        "\n",
        "print(\"------- Buscamos documentos por clave -------\")\n",
        "print(db.find(\"lastName\", \"Watson\"))\n",
        "\n",
        "print(db.find(\"name\", \"Alice\"))\n",
        "\n",
        "print(db.find(\"lastName\", \"Billy\"))\n",
        "\n",
        "\n",
        "print(\"------- Borramos documentos por clave -------\")\n",
        "print(db.remove(\"lastName\", \"Watson\"))\n",
        "\n",
        "print(db.remove(\"id\", \"4\"))\n",
        "\n",
        "print(db.database)\n",
        "\n",
        "\n",
        "print(\"------- Actualizamos documentos por clave -------\")\n",
        "\n",
        "print(db.update(\"lastName\", \"Smith\", {\"name\": \"Bob\", \"lastName\": \"Smith\"}))\n",
        "\n",
        "print(db.update(\"lastName\", \"Watson\", {\"name\": \"Bob\", \"lastName\": \"Smith\"}))\n",
        "\n",
        "print(db.update(\"lastName\", \"Smith\", {\"id\": 5, \"name\": \"Bob\", \"lastName\": \"Smith\"}))\n",
        "\n",
        "print(db.database)"
      ]
    }
  ],
  "metadata": {
    "colab": {
      "collapsed_sections": [],
      "name": "DocumentDatabase.ipynb",
      "provenance": []
    },
    "interpreter": {
      "hash": "f2ec7104d0b563fded5ffd12705406214d4ed020b43c1b3546134c42f3250eb5"
    },
    "kernelspec": {
      "display_name": "Python 3.9.10 ('big-data-programacion-UpxatWFW-py3.9')",
      "language": "python",
      "name": "python3"
    },
    "language_info": {
      "codemirror_mode": {
        "name": "ipython",
        "version": 3
      },
      "file_extension": ".py",
      "mimetype": "text/x-python",
      "name": "python",
      "nbconvert_exporter": "python",
      "pygments_lexer": "ipython3",
      "version": "3.9.10"
    }
  },
  "nbformat": 4,
  "nbformat_minor": 0
}
>>>>>>> 46c48222273ecdecfce2cd991f6dc80ad26c4ff7
