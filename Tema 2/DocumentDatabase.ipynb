{
  "nbformat": 4,
  "nbformat_minor": 0,
  "metadata": {
    "colab": {
      "name": "DocumentDatabase.ipynb",
      "provenance": [],
      "collapsed_sections": []
    },
    "kernelspec": {
      "name": "python3",
      "display_name": "Python 3"
    },
    "language_info": {
      "name": "python"
    }
  },
  "cells": [
    {
      "cell_type": "code",
      "source": [
        "document = {\n",
        "    \"id\": 1,\n",
        "    \"name\": \"Alice\",\n",
        "    \"lastName\": \"Smith\",\n",
        "    \"age\": 28,\n",
        "    \"phones\": [\n",
        "               \"(678) 755-5412\",\n",
        "               \"(574) 885-1631\",\n",
        "               \"(493) 393-4967\"\n",
        "               ],\n",
        "    \"bio\": \"Lorem ipsum dolor sit amet, consectetur adipiscing elit. Nullam tempor.\"\n",
        " }"
      ],
      "metadata": {
        "id": "ploQAJWSQM6j"
      },
      "execution_count": null,
      "outputs": []
    },
    {
      "cell_type": "code",
      "execution_count": null,
      "metadata": {
        "id": "AVDwQabHPqdL"
      },
      "outputs": [],
      "source": [
        "class DocumentDatabase:\n",
        "    def __init__(self):\n",
        "        pass\n",
        "\n",
        "    def insert(self, document):\n",
        "        # Stores the document in the database. Raises a DocumentError if a document with the given id is found or if the given document has no an id field.\n",
        "        # Example: db.insert({ \"id\": 1, \"name\": \"Bob\", \"lastName\": \"Ford\" })\n",
        "        pass\n",
        "\n",
        "    def find(self, key, value):\n",
        "        # Returns the array of documents that contain the given value mapped to given key in the database. Returns an empty array if any document is not found.\n",
        "        # Example: db.find(\"name\", \"Alice\")\n",
        "        pass\n",
        "  \n",
        "    def remove(self, key, value):\n",
        "        # Removes all documents that match the given value mapped to given key in the database.\n",
        "        # Example: db.remove(\"name\", \"Alice\")\n",
        "        pass\n",
        "\n",
        "    def update(self, key, value, partialOrCompleteDocument):\n",
        "        # Updates the documents that match the given value mapped to given key, adding or replacing in the existing document the given partial or complete document in the database. The key \"id\" must not be updated.\n",
        "        # Example: db.update(\"name\", \"Alice\", { \"name\": \"Bob\", \"lastName\": \"Ford\" })\n",
        "        pass"
      ]
    }
  ]
}